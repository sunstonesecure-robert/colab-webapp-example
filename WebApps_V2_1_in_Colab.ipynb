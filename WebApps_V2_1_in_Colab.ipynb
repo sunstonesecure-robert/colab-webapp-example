{
  "nbformat": 4,
  "nbformat_minor": 0,
  "metadata": {
    "colab": {
      "name": "WebApps V2.1 in Colab",
      "provenance": [],
      "include_colab_link": true
    },
    "kernelspec": {
      "name": "python3",
      "display_name": "Python 3"
    },
    "gpuClass": "standard"
  },
  "cells": [
    {
      "cell_type": "markdown",
      "metadata": {
        "id": "view-in-github",
        "colab_type": "text"
      },
      "source": [
        "<a href=\"https://colab.research.google.com/github/sunstonesecure-robert/colab-webapp-example/blob/main/WebApps_V2_1_in_Colab.ipynb\" target=\"_parent\"><img src=\"https://colab.research.google.com/assets/colab-badge.svg\" alt=\"Open In Colab\"/></a>"
      ]
    },
    {
      "cell_type": "markdown",
      "metadata": {
        "id": "fAcxEwXbZPVb"
      },
      "source": [
        "inspried by:\n",
        "\n",
        "[Prithwis Mukerjee](http://www.linkedin.com/in/prithwis)<br>\n",
        "\n",
        "and also:\n",
        "https://www.youtube.com/watch?v=vkRwMKCd3fo"
      ]
    },
    {
      "cell_type": "markdown",
      "metadata": {
        "id": "eQPJOQXTb2y4"
      },
      "source": [
        "#Introduction"
      ]
    },
    {
      "cell_type": "markdown",
      "metadata": {
        "id": "bSX3XxMLVvTR"
      },
      "source": [
        "Let's make Python Applications available on the web by creating a Flask based webserver and then building an API that can be called through an appropriate URL. <br>\n",
        "\n",
        "We use the Google Colab VM to avoid the need to install any software. <br>\n",
        "\n",
        "This causes a problem because the TCIP IP ports on the Colab VM are not easily accessible on the public internet.  To overcome this problem we use ngrok tunnelling technology that creates a publicly accessible URL that can access TCPIP applications running on any Google Colab VM port <br>\n",
        "<br>\n",
        "*   pyngrok - https://pypi.org/project/pyngrok/\n",
        "<br>"
      ]
    },
    {
      "cell_type": "code",
      "source": [
        "!npx create-react-app my-app"
      ],
      "metadata": {
        "id": "tERcr2gGmmr5",
        "outputId": "d67190a1-f364-4aec-8d2a-a2eb43e500ae",
        "colab": {
          "base_uri": "https://localhost:8080/"
        }
      },
      "execution_count": 8,
      "outputs": [
        {
          "output_type": "stream",
          "name": "stdout",
          "text": [
            "\u001b[K\u001b[?25hnpx: installed 67 in 8.777s\n",
            "\n",
            "Creating a new React app in \u001b[32m/content/my-app\u001b[39m.\n",
            "\n",
            "Installing packages. This might take a couple of minutes.\n",
            "Installing \u001b[36mreact\u001b[39m, \u001b[36mreact-dom\u001b[39m, and \u001b[36mreact-scripts\u001b[39m with \u001b[36mcra-template\u001b[39m...\n",
            "\n",
            "\u001b[K\u001b[?25h\n",
            "> core-js@3.33.0 postinstall /content/my-app/node_modules/core-js\n",
            "> node -e \"try{require('./postinstall')}catch(e){}\"\n",
            "\n",
            "\n",
            "> core-js-pure@3.33.0 postinstall /content/my-app/node_modules/core-js-pure\n",
            "> node -e \"try{require('./postinstall')}catch(e){}\"\n",
            "\n",
            "\u001b[K\u001b[?25h+ react-scripts@5.0.1\n",
            "+ react@18.2.0\n",
            "+ react-dom@18.2.0\n",
            "+ cra-template@1.2.0\n",
            "added 1472 packages from 634 contributors in 114.789s\n",
            "\n",
            "241 packages are looking for funding\n",
            "  run `npm fund` for details\n",
            "\n",
            "\n",
            "Initialized a git repository.\n",
            "\n",
            "Installing template dependencies using npm...\n",
            "\u001b[K\u001b[?25h\u001b[37;40mnpm\u001b[0m \u001b[0m\u001b[30;43mWARN\u001b[0m\u001b[35m\u001b[0m @apideck/better-ajv-errors@0.3.6 requires a peer of ajv@>=8 but none is installed. You must install peer dependencies yourself.\n",
            "\u001b[0m\u001b[37;40mnpm\u001b[0m \u001b[0m\u001b[30;43mWARN\u001b[0m\u001b[35m\u001b[0m fork-ts-checker-webpack-plugin@6.5.3 requires a peer of typescript@>= 2.7 but none is installed. You must install peer dependencies yourself.\n",
            "\u001b[0m\u001b[37;40mnpm\u001b[0m \u001b[0m\u001b[30;43mWARN\u001b[0m\u001b[35m\u001b[0m tsutils@3.21.0 requires a peer of typescript@>=2.8.0 || >= 3.2.0-dev || >= 3.3.0-dev || >= 3.4.0-dev || >= 3.5.0-dev || >= 3.6.0-dev || >= 3.6.0-beta || >= 3.7.0-dev || >= 3.7.0-beta but none is installed. You must install peer dependencies yourself.\n",
            "\u001b[0m\u001b[37;40mnpm\u001b[0m \u001b[0m\u001b[30;43mWARN\u001b[0m \u001b[0m\u001b[35moptional\u001b[0m SKIPPING OPTIONAL DEPENDENCY: fsevents@2.3.3 (node_modules/fsevents):\n",
            "\u001b[0m\u001b[37;40mnpm\u001b[0m \u001b[0m\u001b[30;43mWARN\u001b[0m \u001b[0m\u001b[35mnotsup\u001b[0m SKIPPING OPTIONAL DEPENDENCY: Unsupported platform for fsevents@2.3.3: wanted {\"os\":\"darwin\",\"arch\":\"any\"} (current: {\"os\":\"linux\",\"arch\":\"x64\"})\n",
            "\u001b[0m\n",
            "+ web-vitals@2.1.4\n",
            "+ @testing-library/user-event@13.5.0\n",
            "+ @testing-library/jest-dom@5.17.0\n",
            "+ @testing-library/react@13.4.0\n",
            "added 61 packages from 86 contributors in 21.039s\n",
            "\n",
            "245 packages are looking for funding\n",
            "  run `npm fund` for details\n",
            "\n",
            "Removing template package using npm...\n",
            "\n",
            "\u001b[K\u001b[?25h\u001b[37;40mnpm\u001b[0m \u001b[0m\u001b[30;43mWARN\u001b[0m\u001b[35m\u001b[0m @apideck/better-ajv-errors@0.3.6 requires a peer of ajv@>=8 but none is installed. You must install peer dependencies yourself.\n",
            "\u001b[0m\u001b[37;40mnpm\u001b[0m \u001b[0m\u001b[30;43mWARN\u001b[0m\u001b[35m\u001b[0m fork-ts-checker-webpack-plugin@6.5.3 requires a peer of typescript@>= 2.7 but none is installed. You must install peer dependencies yourself.\n",
            "\u001b[0m\u001b[37;40mnpm\u001b[0m \u001b[0m\u001b[30;43mWARN\u001b[0m\u001b[35m\u001b[0m tsutils@3.21.0 requires a peer of typescript@>=2.8.0 || >= 3.2.0-dev || >= 3.3.0-dev || >= 3.4.0-dev || >= 3.5.0-dev || >= 3.6.0-dev || >= 3.6.0-beta || >= 3.7.0-dev || >= 3.7.0-beta but none is installed. You must install peer dependencies yourself.\n",
            "\u001b[0m\u001b[37;40mnpm\u001b[0m \u001b[0m\u001b[30;43mWARN\u001b[0m \u001b[0m\u001b[35moptional\u001b[0m SKIPPING OPTIONAL DEPENDENCY: fsevents@2.3.3 (node_modules/fsevents):\n",
            "\u001b[0m\u001b[37;40mnpm\u001b[0m \u001b[0m\u001b[30;43mWARN\u001b[0m \u001b[0m\u001b[35mnotsup\u001b[0m SKIPPING OPTIONAL DEPENDENCY: Unsupported platform for fsevents@2.3.3: wanted {\"os\":\"darwin\",\"arch\":\"any\"} (current: {\"os\":\"linux\",\"arch\":\"x64\"})\n",
            "\u001b[0m\n",
            "removed 1 package and audited 1533 packages in 11.077s\n",
            "\n",
            "245 packages are looking for funding\n",
            "  run `npm fund` for details\n",
            "\n",
            "found \u001b[91m2\u001b[0m vulnerabilities (1 \u001b[93mmoderate\u001b[0m, 1 \u001b[91mhigh\u001b[0m)\n",
            "  run `npm audit fix` to fix them, or `npm audit` for details\n",
            "\u001b[K\u001b[?25hGit commit not created Error: Command failed: git commit -m \"Initialize project using Create React App\"\n",
            "\u001b[90m    at checkExecSyncError (child_process.js:616:11)\u001b[39m\n",
            "\u001b[90m    at execSync (child_process.js:652:15)\u001b[39m\n",
            "    at tryGitCommit (/content/my-app/node_modules/\u001b[4mreact-scripts\u001b[24m/scripts/init.js:62:5)\n",
            "    at module.exports (/content/my-app/node_modules/\u001b[4mreact-scripts\u001b[24m/scripts/init.js:350:25)\n",
            "    at [eval]:3:14\n",
            "\u001b[90m    at Script.runInThisContext (vm.js:133:18)\u001b[39m\n",
            "\u001b[90m    at Object.runInThisContext (vm.js:310:38)\u001b[39m\n",
            "\u001b[90m    at internal/process/execution.js:77:19\u001b[39m\n",
            "    at [eval]-wrapper:6:22\n",
            "\u001b[90m    at evalScript (internal/process/execution.js:76:60)\u001b[39m {\n",
            "  status: \u001b[33m128\u001b[39m,\n",
            "  signal: \u001b[1mnull\u001b[22m,\n",
            "  output: [ \u001b[1mnull\u001b[22m, \u001b[1mnull\u001b[22m, \u001b[1mnull\u001b[22m ],\n",
            "  pid: \u001b[33m11965\u001b[39m,\n",
            "  stdout: \u001b[1mnull\u001b[22m,\n",
            "  stderr: \u001b[1mnull\u001b[22m\n",
            "}\n",
            "Removing .git directory...\n",
            "\n",
            "Success! Created my-app at /content/my-app\n",
            "Inside that directory, you can run several commands:\n",
            "\n",
            "\u001b[36m  npm start\u001b[39m\n",
            "    Starts the development server.\n",
            "\n",
            "\u001b[36m  npm run build\u001b[39m\n",
            "    Bundles the app into static files for production.\n",
            "\n",
            "\u001b[36m  npm test\u001b[39m\n",
            "    Starts the test runner.\n",
            "\n",
            "\u001b[36m  npm run eject\u001b[39m\n",
            "    Removes this tool and copies build dependencies, configuration files\n",
            "    and scripts into the app directory. If you do this, you can’t go back!\n",
            "\n",
            "We suggest that you begin by typing:\n",
            "\n",
            "\u001b[36m  cd\u001b[39m my-app\n",
            "  \u001b[36mnpm start\u001b[39m\n",
            "\n",
            "Happy hacking!\n"
          ]
        }
      ]
    },
    {
      "cell_type": "markdown",
      "metadata": {
        "id": "G7CmUsI_oT34"
      },
      "source": [
        "##Install ngrok using Python wrapper <br>\n",
        "this code adapted from https://towardsdatascience.com/quickly-share-ml-webapps-from-google-colab-using-ngrok-for-free-ae899ca2661a"
      ]
    },
    {
      "cell_type": "code",
      "source": [
        "%cd my-app"
      ],
      "metadata": {
        "id": "4B8RUb_AnNWT",
        "outputId": "037bb44c-80aa-4d6d-d46d-aa9c7b752971",
        "colab": {
          "base_uri": "https://localhost:8080/"
        }
      },
      "execution_count": 9,
      "outputs": [
        {
          "output_type": "stream",
          "name": "stdout",
          "text": [
            "/content/my-app\n"
          ]
        }
      ]
    },
    {
      "cell_type": "code",
      "metadata": {
        "id": "ZkGDRme4opqW",
        "colab": {
          "base_uri": "https://localhost:8080/"
        },
        "outputId": "cf3725b6-2b88-474c-efc5-d66cfc65e532"
      },
      "source": [
        "!pip -q install pyngrok"
      ],
      "execution_count": 3,
      "outputs": [
        {
          "output_type": "stream",
          "name": "stdout",
          "text": [
            "\u001b[?25l     \u001b[90m━━━━━━━━━━━━━━━━━━━━━━━━━━━━━━━━━━━━━━━━\u001b[0m \u001b[32m0.0/718.7 kB\u001b[0m \u001b[31m?\u001b[0m eta \u001b[36m-:--:--\u001b[0m\r\u001b[2K     \u001b[91m━━━━━━━\u001b[0m\u001b[91m╸\u001b[0m\u001b[90m━━━━━━━━━━━━━━━━━━━━━━━━━━━━━━━\u001b[0m \u001b[32m143.4/718.7 kB\u001b[0m \u001b[31m4.1 MB/s\u001b[0m eta \u001b[36m0:00:01\u001b[0m\r\u001b[2K     \u001b[91m━━━━━━━━━━━━━━━━━━━━━━━━━━━━━━━━━━━━━\u001b[0m\u001b[91m╸\u001b[0m \u001b[32m716.8/718.7 kB\u001b[0m \u001b[31m11.6 MB/s\u001b[0m eta \u001b[36m0:00:01\u001b[0m\r\u001b[2K     \u001b[90m━━━━━━━━━━━━━━━━━━━━━━━━━━━━━━━━━━━━━━━\u001b[0m \u001b[32m718.7/718.7 kB\u001b[0m \u001b[31m9.7 MB/s\u001b[0m eta \u001b[36m0:00:00\u001b[0m\n",
            "\u001b[?25h  Preparing metadata (setup.py) ... \u001b[?25l\u001b[?25hdone\n",
            "  Building wheel for pyngrok (setup.py) ... \u001b[?25l\u001b[?25hdone\n"
          ]
        }
      ]
    },
    {
      "cell_type": "markdown",
      "metadata": {
        "id": "tOULZNaBZ9Hi"
      },
      "source": [
        "##Get, Install ngrok access token"
      ]
    },
    {
      "cell_type": "markdown",
      "metadata": {
        "id": "PsGoGUdaWVc1"
      },
      "source": [
        "ngrok needs an authentication token. this can be easily hardcoded into this notebook ( as shown in one of the cells below) To avoid hardcoding -- and revealing the same in a public notebook -- the token is stored in Google Drive and accessed by mounting the G-Drive on the Colab VM <br>\n",
        "See\n",
        "\n",
        "\n",
        "1.   https://ngrok.com/ - login and create your free ID\n",
        "2.   https://dashboard.ngrok.com/get-started/setup - get your authtoken\n",
        "\n"
      ]
    },
    {
      "cell_type": "code",
      "metadata": {
        "id": "-cPJEPTlZHWZ",
        "colab": {
          "base_uri": "https://localhost:8080/"
        },
        "outputId": "94ebae1a-0a8f-4ef8-835e-7820d7db4ff0"
      },
      "source": [
        "# If the ngrokToken is stored in a private file in GDrive, use this route\n",
        "from google.colab import drive\n",
        "drive.mount('/content/drive')\n",
        "\n",
        "# this file needs to be uploaded into the VM\n",
        "!ls /content/drive/'My Drive'/ngrokToken.py\n",
        "!cp /content/drive/'My Drive'/ngrokToken.py .\n",
        "!cat ngrokToken.py\n",
        "\n",
        "from ngrokToken import ngrokToken"
      ],
      "execution_count": 10,
      "outputs": [
        {
          "output_type": "stream",
          "name": "stdout",
          "text": [
            "Drive already mounted at /content/drive; to attempt to forcibly remount, call drive.mount(\"/content/drive\", force_remount=True).\n",
            "'/content/drive/My Drive/ngrokToken.py'\n",
            "# ngrokToken.py\n",
            "ngrokToken = '2WV4UrMPVLgnRPaoAK5TqKYfUeA_4T8zmzioadAfEBfesUPyg'"
          ]
        }
      ]
    },
    {
      "cell_type": "code",
      "source": [
        "ngrokTokenCmd = 'ngrok authtoken '+ngrokToken"
      ],
      "metadata": {
        "id": "F302_AofA-_Z"
      },
      "execution_count": 11,
      "outputs": []
    },
    {
      "cell_type": "code",
      "metadata": {
        "id": "9AYyUZ89pJNW"
      },
      "source": [
        "#install the ngrok token\n",
        "from pyngrok import ngrok\n",
        "# kill any existing tunnels\n",
        "ngrok.kill()\n",
        "get_ipython().system_raw(ngrokTokenCmd)"
      ],
      "execution_count": 17,
      "outputs": []
    },
    {
      "cell_type": "markdown",
      "source": [
        "#Web Apps\n",
        "Here we build python flask web apps that can be called as an API<br>\n",
        "Before running any WebApp, we need to create an ngrok TUNNEL that will connect the port defined in the webapp to the external URL through a public URL"
      ],
      "metadata": {
        "id": "q1r4mxQZz1f8"
      }
    },
    {
      "cell_type": "markdown",
      "metadata": {
        "id": "lzVGEgEbcxbg"
      },
      "source": [
        "##React create-web-app <br>\n",
        "See my React Fu!<hr>\n"
      ]
    },
    {
      "cell_type": "markdown",
      "source": [
        "![alt text](https://raw.githubusercontent.com/Praxis-QR/DEMD/main/screenshots/webapp01.png)<br>"
      ],
      "metadata": {
        "id": "JakN9x9Yy8rI"
      }
    },
    {
      "cell_type": "code",
      "metadata": {
        "id": "0XeeUv3Ddbw1",
        "outputId": "ec3b2e61-b1b4-4910-8e2b-aa41e210cb0b",
        "colab": {
          "base_uri": "https://localhost:8080/"
        }
      },
      "source": [
        "#Create an ngrok tunnel to port 5000 and print its public URL\n",
        "public_url = ngrok.connect(3000)                        # assuming that WebApps will run on port 5000\n",
        "public_url"
      ],
      "execution_count": 18,
      "outputs": [
        {
          "output_type": "stream",
          "name": "stderr",
          "text": [
            "WARNING:pyngrok.process.ngrok:t=2023-10-08T23:31:32+0000 lvl=warn msg=\"ngrok config file found at legacy location, move to XDG location\" xdg_path=/root/.config/ngrok/ngrok.yml legacy_path=/root/.ngrok2/ngrok.yml\n"
          ]
        },
        {
          "output_type": "execute_result",
          "data": {
            "text/plain": [
              "<NgrokTunnel: \"https://d6bc-34-75-73-167.ngrok-free.app\" -> \"http://localhost:3000\">"
            ]
          },
          "metadata": {},
          "execution_count": 18
        }
      ]
    },
    {
      "cell_type": "code",
      "source": [
        "!npm start"
      ],
      "metadata": {
        "id": "wNUPvhOin3TS",
        "outputId": "3edd01cc-808a-4207-f93b-fe8475ad1735",
        "colab": {
          "base_uri": "https://localhost:8080/"
        }
      },
      "execution_count": 19,
      "outputs": [
        {
          "output_type": "stream",
          "name": "stdout",
          "text": [
            "\n",
            "> my-app@0.1.0 start /content/my-app\n",
            "> react-scripts start\n",
            "\n",
            "(node:13328) [DEP_WEBPACK_DEV_SERVER_ON_AFTER_SETUP_MIDDLEWARE] DeprecationWarning: 'onAfterSetupMiddleware' option is deprecated. Please use the 'setupMiddlewares' option.\n",
            "(Use `node --trace-deprecation ...` to show where the warning was created)\n",
            "(node:13328) [DEP_WEBPACK_DEV_SERVER_ON_BEFORE_SETUP_MIDDLEWARE] DeprecationWarning: 'onBeforeSetupMiddleware' option is deprecated. Please use the 'setupMiddlewares' option.\n",
            "\u001b[2J\u001b[3J\u001b[H\u001b[36mStarting the development server...\u001b[39m\n",
            "\u001b[36m\u001b[39m\n",
            "\u001b[2J\u001b[3J\u001b[H\u001b[32mCompiled successfully!\u001b[39m\n",
            "\n",
            "You can now view \u001b[1mmy-app\u001b[22m in the browser.\n",
            "\n",
            "  \u001b[1mLocal:\u001b[22m            http://localhost:\u001b[1m3000\u001b[22m\n",
            "  \u001b[1mOn Your Network:\u001b[22m  http://172.28.0.12:\u001b[1m3000\u001b[22m\n",
            "\n",
            "Note that the development build is not optimized.\n",
            "To create a production build, use \u001b[36mnpm run build\u001b[39m.\n",
            "\n",
            "webpack compiled \u001b[1m\u001b[32msuccessfully\u001b[39m\u001b[22m\n",
            "^C\n"
          ]
        }
      ]
    },
    {
      "cell_type": "code",
      "metadata": {
        "id": "MywhFrKMc2hJ",
        "colab": {
          "base_uri": "https://localhost:8080/"
        },
        "outputId": "52c03a98-f390-4219-824b-1bb1907cd12d"
      },
      "source": [
        "# NOTE: this cell needs to be killed when you want to stop the WebApp\n",
        "\n",
        "from sys import argv\n",
        "from flask import Flask\n",
        "app = Flask(__name__)\n",
        "scriptName = argv[0]\n",
        "\n",
        "@app.route(\"/\")\n",
        "def hello():\n",
        "    retString = 'Praxis Web App 01 now running ... '+scriptName\n",
        "    return retString\n",
        "\n",
        "if __name__ == \"__main__\":\n",
        "    app.run(host=\"0.0.0.0\")"
      ],
      "execution_count": 6,
      "outputs": [
        {
          "output_type": "stream",
          "name": "stdout",
          "text": [
            " * Serving Flask app '__main__'\n",
            " * Debug mode: off\n"
          ]
        },
        {
          "output_type": "stream",
          "name": "stderr",
          "text": [
            "INFO:werkzeug:\u001b[31m\u001b[1mWARNING: This is a development server. Do not use it in a production deployment. Use a production WSGI server instead.\u001b[0m\n",
            " * Running on all addresses (0.0.0.0)\n",
            " * Running on http://127.0.0.1:5000\n",
            " * Running on http://172.28.0.12:5000\n",
            "INFO:werkzeug:\u001b[33mPress CTRL+C to quit\u001b[0m\n",
            "INFO:werkzeug:127.0.0.1 - - [08/Oct/2023 22:43:40] \"GET / HTTP/1.1\" 200 -\n",
            "INFO:werkzeug:127.0.0.1 - - [08/Oct/2023 22:43:41] \"\u001b[33mGET /favicon.ico HTTP/1.1\u001b[0m\" 404 -\n"
          ]
        }
      ]
    },
    {
      "cell_type": "markdown",
      "metadata": {
        "id": "TZR5rhPujugQ"
      },
      "source": [
        "##WebApp 02 - html pages <br>\n",
        "More complex webapp that has a route /home to a home page that contains images and text <br>"
      ]
    },
    {
      "cell_type": "markdown",
      "source": [
        "![alt text](https://raw.githubusercontent.com/Praxis-QR/DEMD/main/screenshots/webapp02.png)<br>"
      ],
      "metadata": {
        "id": "ELhgxxXk0F0A"
      }
    },
    {
      "cell_type": "markdown",
      "metadata": {
        "id": "lgDAZRTSWyK2"
      },
      "source": [
        "Web apps need additionl files for HTML, images, data etc that need to be stored on appropriate directories. These files can either be created in a local machine and uploaded into the appropriate directory, or ( as is being done here) copied from files stored in Github. <br>\n",
        "These files need to be stored in specific subdirectories. We create sub-directories, download the files from Github / GDrive and then move them to the required sub directories"
      ]
    },
    {
      "cell_type": "code",
      "metadata": {
        "id": "Me8szMxyj1ol"
      },
      "source": [
        "# Create new directory template\n",
        "!mkdir templates\n",
        "\n",
        "# Originally stored in G-Drive\n",
        "#!gdown https://drive.google.com/uc?id=1rJ3LLAv6M3kvLko0mIE38QrnjqCK3Up_\n",
        "#!gdown https://drive.google.com/uc?id=1-ncwBB5qKiZmQ0VOnCDiqLw2pDnqRddg\n",
        "\n",
        "# Now Stored and Pulled from GitHub\n",
        "!wget -q https://raw.githubusercontent.com/Praxis-bs/DEMD/main/templates/home.html\n",
        "!wget -q https://raw.githubusercontent.com/Praxis-bs/DEMD/main/templates/work.html\n",
        "\n",
        "!mv *.html templates/\n",
        "#!cat templates/home.html"
      ],
      "execution_count": null,
      "outputs": []
    },
    {
      "cell_type": "code",
      "metadata": {
        "id": "48fn0ycSl4NA",
        "colab": {
          "base_uri": "https://localhost:8080/"
        },
        "outputId": "b0171f77-2974-49d9-ebf3-dbd7900e17dd"
      },
      "source": [
        "# visit the public_url/home to see the index page\n",
        "public_url = ngrok.connect(5000)\n",
        "public_url\n"
      ],
      "execution_count": null,
      "outputs": [
        {
          "output_type": "execute_result",
          "data": {
            "text/plain": [
              "<NgrokTunnel: \"http://725b-34-75-146-12.ngrok.io\" -> \"http://localhost:5000\">"
            ]
          },
          "metadata": {},
          "execution_count": 8
        }
      ]
    },
    {
      "cell_type": "code",
      "metadata": {
        "id": "iWWOvecLllng",
        "colab": {
          "base_uri": "https://localhost:8080/"
        },
        "outputId": "b5a778c9-e02d-474e-d8a7-210d0e20c2dc"
      },
      "source": [
        "# https://pythonspot.com/flask-web-app-with-python/\n",
        "\n",
        "from sys import argv\n",
        "from flask import Flask, flash, redirect, render_template, request, session, abort\n",
        "\n",
        "app = Flask(__name__)\n",
        "scriptName = argv[0]\n",
        "\n",
        "@app.route(\"/\")\n",
        "def hello():\n",
        "    retString = 'WebApp02 now running ... '+scriptName\n",
        "    return retString\n",
        "\n",
        "@app.route('/home')\n",
        "def home():\n",
        "    return render_template('home.html')\n",
        "\n",
        "\n",
        "if __name__ == \"__main__\":\n",
        "    app.run(host=\"0.0.0.0\")"
      ],
      "execution_count": null,
      "outputs": [
        {
          "output_type": "stream",
          "name": "stdout",
          "text": [
            " * Serving Flask app \"__main__\" (lazy loading)\n",
            " * Environment: production\n",
            "\u001b[31m   WARNING: This is a development server. Do not use it in a production deployment.\u001b[0m\n",
            "\u001b[2m   Use a production WSGI server instead.\u001b[0m\n",
            " * Debug mode: off\n"
          ]
        },
        {
          "output_type": "stream",
          "name": "stderr",
          "text": [
            " * Running on http://0.0.0.0:5000/ (Press CTRL+C to quit)\n",
            "127.0.0.1 - - [27/Jul/2022 13:17:20] \"\u001b[37mGET / HTTP/1.1\u001b[0m\" 200 -\n",
            "127.0.0.1 - - [27/Jul/2022 13:17:20] \"\u001b[33mGET /favicon.ico HTTP/1.1\u001b[0m\" 404 -\n",
            "127.0.0.1 - - [27/Jul/2022 13:17:28] \"\u001b[37mGET /home HTTP/1.1\u001b[0m\" 200 -\n",
            "127.0.0.1 - - [27/Jul/2022 13:17:28] \"\u001b[33mGET /favicon.ico HTTP/1.1\u001b[0m\" 404 -\n"
          ]
        }
      ]
    },
    {
      "cell_type": "markdown",
      "metadata": {
        "id": "tw00lLMTmt9m"
      },
      "source": [
        "##WebApp 03 - HTML pages with image"
      ]
    },
    {
      "cell_type": "markdown",
      "source": [
        "![alt text](https://raw.githubusercontent.com/Praxis-QR/DEMD/main/screenshots/webapp03.png)<br>"
      ],
      "metadata": {
        "id": "j8KQUfNZ1Fhz"
      }
    },
    {
      "cell_type": "code",
      "metadata": {
        "id": "uOOorm-amzNO"
      },
      "source": [
        "# new directory for images\n",
        "!mkdir static\n",
        "\n",
        "#!gdown https://drive.google.com/uc?id=1dEcZxMotndHNglu14240GYBgLdIYaTcB\n",
        "#!gdown https://drive.google.com/uc?id=1cImOiQvpE61c6Wy074Ly1E_yBVaDr5-f\n",
        "#!gdown https://drive.google.com/uc?id=1ohWMGJyl79xpVJ64yO8qFlCpgH08v71t\n",
        "\n",
        "# Pulling from GitHub\n",
        "\n",
        "\n",
        "!wget -q https://github.com/Praxis-bs/DEMD/raw/main/static/kkpraxis.png\n",
        "!wget -q https://raw.githubusercontent.com/Praxis-bs/DEMD/main/templates/work01.html\n",
        "!wget -q https://raw.githubusercontent.com/Praxis-bs/DEMD/main/templates/work02.html\n",
        "\n",
        "!mv kkpraxis.png static/\n",
        "!mv *.html templates/"
      ],
      "execution_count": null,
      "outputs": []
    },
    {
      "cell_type": "code",
      "metadata": {
        "id": "vpN8EULMqWLL",
        "outputId": "ae5579bd-9d50-49bf-bd1c-109d33920fc6",
        "colab": {
          "base_uri": "https://localhost:8080/"
        }
      },
      "source": [
        "# visit the public_url/home to see the index page\n",
        "# visit the public_url/datatext/some text data  --- to see\n",
        "# visit the public_url/datanumber/10  --- to see how integer data is processed\n",
        "\n",
        "public_url = ngrok.connect(5000)                        # option 2\n",
        "public_url\n"
      ],
      "execution_count": null,
      "outputs": [
        {
          "output_type": "execute_result",
          "data": {
            "text/plain": [
              "<NgrokTunnel: \"http://96d2-34-75-146-12.ngrok.io\" -> \"http://localhost:5000\">"
            ]
          },
          "metadata": {},
          "execution_count": 11
        }
      ]
    },
    {
      "cell_type": "code",
      "metadata": {
        "id": "imwY40BGqNDR",
        "outputId": "e6fb6b12-1d24-4230-dce3-088b51039b04",
        "colab": {
          "base_uri": "https://localhost:8080/"
        }
      },
      "source": [
        "# https://pythonspot.com/flask-web-app-with-python/\n",
        "\n",
        "from sys import argv\n",
        "from flask import Flask, flash, redirect, render_template, request, session, abort\n",
        "\n",
        "app = Flask(__name__)\n",
        "scriptName = argv[0]\n",
        "\n",
        "@app.route(\"/\")\n",
        "def hello():\n",
        "    retString = 'WebApp 03 now running ... '+scriptName\n",
        "    return retString\n",
        "\n",
        "@app.route('/home')\n",
        "def home():\n",
        "    return render_template('home.html')\n",
        "\n",
        "@app.route('/datatext/<inputText>')\n",
        "def say_hello(inputText):\n",
        "    return render_template('work01.html',text_data=inputText)\n",
        "\n",
        "@app.route('/datanumber/<int:inputInt>')\n",
        "def data_input(inputInt):\n",
        "    newVar = 2 * inputInt\n",
        "    return render_template('work02.html',int_data=newVar)\n",
        "\n",
        "\n",
        "if __name__ == \"__main__\":\n",
        "    app.run(host=\"0.0.0.0\")"
      ],
      "execution_count": null,
      "outputs": [
        {
          "output_type": "stream",
          "name": "stdout",
          "text": [
            " * Serving Flask app \"__main__\" (lazy loading)\n",
            " * Environment: production\n",
            "\u001b[31m   WARNING: This is a development server. Do not use it in a production deployment.\u001b[0m\n",
            "\u001b[2m   Use a production WSGI server instead.\u001b[0m\n",
            " * Debug mode: off\n"
          ]
        },
        {
          "output_type": "stream",
          "name": "stderr",
          "text": [
            " * Running on http://0.0.0.0:5000/ (Press CTRL+C to quit)\n",
            "127.0.0.1 - - [27/Jul/2022 13:21:38] \"\u001b[37mGET / HTTP/1.1\u001b[0m\" 200 -\n",
            "127.0.0.1 - - [27/Jul/2022 13:21:39] \"\u001b[33mGET /favicon.ico HTTP/1.1\u001b[0m\" 404 -\n",
            "127.0.0.1 - - [27/Jul/2022 13:21:46] \"\u001b[37mGET /home HTTP/1.1\u001b[0m\" 200 -\n",
            "127.0.0.1 - - [27/Jul/2022 13:21:46] \"\u001b[33mGET /favicon.ico HTTP/1.1\u001b[0m\" 404 -\n",
            "127.0.0.1 - - [27/Jul/2022 13:22:18] \"\u001b[37mGET /datatext/Celebrate%20Your%20Worth%20at%20Praxis HTTP/1.1\u001b[0m\" 200 -\n",
            "127.0.0.1 - - [27/Jul/2022 13:22:18] \"\u001b[37mGET /static/kkpraxis.png HTTP/1.1\u001b[0m\" 200 -\n"
          ]
        }
      ]
    },
    {
      "cell_type": "markdown",
      "metadata": {
        "id": "ns8TQT6falwo"
      },
      "source": [
        "##Web App 04 - parsing input strings <br>\n",
        "here we demonstrate the ability to parse strings"
      ]
    },
    {
      "cell_type": "markdown",
      "source": [
        "![alt text](https://raw.githubusercontent.com/Praxis-QR/DEMD/main/screenshots/webapp04.png)<br>"
      ],
      "metadata": {
        "id": "QNHv8ycm2Ec9"
      }
    },
    {
      "cell_type": "code",
      "metadata": {
        "id": "DC6Saqw9bBBJ"
      },
      "source": [
        "#!gdown https://drive.google.com/uc?id=1caWC5IoO7Qo6MJgNpxi706oMZOBPUm3i\n",
        "\n",
        "# Pulling from github\n",
        "!wget -q https://raw.githubusercontent.com/Praxis-bs/DEMD/main/templates/work03.html\n",
        "!mv work03.html templates/"
      ],
      "execution_count": null,
      "outputs": []
    },
    {
      "cell_type": "code",
      "metadata": {
        "id": "eR2dW4ngbJcO",
        "outputId": "2d155c8b-bb35-4c77-fd11-4949f4c92505",
        "colab": {
          "base_uri": "https://localhost:8080/"
        }
      },
      "source": [
        "# go to public_url/multidata and enter a set of numbers separated by comma in the URL\n",
        "public_url = ngrok.connect(5000)                        # option 2\n",
        "public_url"
      ],
      "execution_count": null,
      "outputs": [
        {
          "output_type": "execute_result",
          "data": {
            "text/plain": [
              "<NgrokTunnel: \"http://0ae9-34-75-146-12.ngrok.io\" -> \"http://localhost:5000\">"
            ]
          },
          "metadata": {},
          "execution_count": 14
        }
      ]
    },
    {
      "cell_type": "code",
      "metadata": {
        "id": "oy9DlEJ7aq_k",
        "outputId": "56b02133-a7a0-489c-c21b-1841e15d9257",
        "colab": {
          "base_uri": "https://localhost:8080/"
        }
      },
      "source": [
        "# https://pythonspot.com/flask-web-app-with-python/\n",
        "\n",
        "from sys import argv\n",
        "from flask import Flask, flash, redirect, render_template, request, session, abort\n",
        "\n",
        "app = Flask(__name__)\n",
        "scriptName = argv[0]\n",
        "\n",
        "@app.route(\"/\")\n",
        "def hello():\n",
        "    retString = 'Web App 04 now running ... '+scriptName\n",
        "    return retString\n",
        "\n",
        "@app.route('/home')\n",
        "def home():\n",
        "    return render_template('home.html')\n",
        "\n",
        "@app.route('/datatext/<inputText>')\n",
        "def say_hello(inputText):\n",
        "    return render_template('work01.html',text_data=inputText)\n",
        "\n",
        "@app.route('/datanumber/<int:inputInt>')\n",
        "def data_input(inputInt):\n",
        "    newVar = 2 * inputInt\n",
        "    return render_template('work02.html',int_data=newVar)\n",
        "\n",
        "@app.route('/multidata/<inputString>')\n",
        "def multidata(inputString):\n",
        "    str1 = inputString\n",
        "    text_list = str1.split(\",\")\n",
        "    num_array = list(map(lambda x : float(x), text_list))\n",
        "    return render_template('work03.html',**locals())\n",
        "\n",
        "\n",
        "if __name__ == \"__main__\":\n",
        "    app.run(host=\"0.0.0.0\")"
      ],
      "execution_count": null,
      "outputs": [
        {
          "output_type": "stream",
          "name": "stdout",
          "text": [
            " * Serving Flask app \"__main__\" (lazy loading)\n",
            " * Environment: production\n",
            "\u001b[31m   WARNING: This is a development server. Do not use it in a production deployment.\u001b[0m\n",
            "\u001b[2m   Use a production WSGI server instead.\u001b[0m\n",
            " * Debug mode: off\n"
          ]
        },
        {
          "output_type": "stream",
          "name": "stderr",
          "text": [
            " * Running on http://0.0.0.0:5000/ (Press CTRL+C to quit)\n",
            "127.0.0.1 - - [27/Jul/2022 13:26:25] \"\u001b[37mGET / HTTP/1.1\u001b[0m\" 200 -\n",
            "127.0.0.1 - - [27/Jul/2022 13:26:25] \"\u001b[33mGET /favicon.ico HTTP/1.1\u001b[0m\" 404 -\n",
            "127.0.0.1 - - [27/Jul/2022 13:26:32] \"\u001b[37mGET /home HTTP/1.1\u001b[0m\" 200 -\n",
            "127.0.0.1 - - [27/Jul/2022 13:26:32] \"\u001b[33mGET /favicon.ico HTTP/1.1\u001b[0m\" 404 -\n",
            "127.0.0.1 - - [27/Jul/2022 13:27:04] \"\u001b[37mGET /multidata/1.23,2.34,6.78,8.34,2.33 HTTP/1.1\u001b[0m\" 200 -\n",
            "127.0.0.1 - - [27/Jul/2022 13:27:04] \"\u001b[37mGET /static/kkpraxis.png HTTP/1.1\u001b[0m\" 200 -\n"
          ]
        }
      ]
    },
    {
      "cell_type": "markdown",
      "metadata": {
        "id": "-IpbS0WncVWa"
      },
      "source": [
        "##Web App 05 - Reading a datafile <br>\n",
        "here we store a textfile called hobbit.txt and then we call it by name"
      ]
    },
    {
      "cell_type": "markdown",
      "source": [
        "![alt text](https://raw.githubusercontent.com/Praxis-QR/DEMD/main/screenshots/webapp05.png)<br>"
      ],
      "metadata": {
        "id": "H9SLeqLA2zrI"
      }
    },
    {
      "cell_type": "code",
      "metadata": {
        "id": "VUtjvNzfceIX"
      },
      "source": [
        "!mkdir datafiles\n",
        "#!gdown https://drive.google.com/uc?id=15ZQBBvEpOtUqBv-OxgWJt5OI_xZymgCA\n",
        "#!gdown https://drive.google.com/uc?id=1MHRvUzRQ21AXbzaR4R58EdnhNAL8v-uJ\n",
        "\n",
        "!wget -q  https://raw.githubusercontent.com/Praxis-bs/DEMD/main/datafiles/hobbit.txt\n",
        "!wget -q  https://raw.githubusercontent.com/Praxis-bs/DEMD/main/templates/work04.html\n",
        "\n",
        "!mv hobbit.txt datafiles/\n",
        "!mv work04.html templates/"
      ],
      "execution_count": null,
      "outputs": []
    },
    {
      "cell_type": "code",
      "metadata": {
        "id": "H9VoqMq6c90F",
        "outputId": "c1fada1a-ca45-45f3-ef1a-6d6c5072ec55",
        "colab": {
          "base_uri": "https://localhost:8080/"
        }
      },
      "source": [
        "# call the public-url/readfile/filename to read the file ... in this case, filename = hobbit.txt\n",
        "public_url = ngrok.connect(5010)                        # NOTE that we have moved to port 5010 for no reason except to show a change\n",
        "public_url"
      ],
      "execution_count": null,
      "outputs": [
        {
          "output_type": "execute_result",
          "data": {
            "text/plain": [
              "<NgrokTunnel: \"http://c892-34-75-146-12.ngrok.io\" -> \"http://localhost:5010\">"
            ]
          },
          "metadata": {},
          "execution_count": 17
        }
      ]
    },
    {
      "cell_type": "code",
      "metadata": {
        "id": "RHWdzMKQcapu",
        "outputId": "5d97a99c-82ae-4b21-cca0-442813fad528",
        "colab": {
          "base_uri": "https://localhost:8080/"
        }
      },
      "source": [
        "# https://pythonspot.com/flask-web-app-with-python/\n",
        "\n",
        "from sys import argv\n",
        "from flask import Flask, flash, redirect, render_template, request, session, abort\n",
        "\n",
        "app = Flask(__name__)\n",
        "scriptName = argv[0]\n",
        "\n",
        "@app.route(\"/\")\n",
        "def hello():\n",
        "    retString = 'now running ... '+scriptName\n",
        "    return retString\n",
        "\n",
        "@app.route('/home')\n",
        "def home():\n",
        "    return render_template('home.html')\n",
        "\n",
        "@app.route('/datatext/<inputText>')\n",
        "def say_hello(inputText):\n",
        "    return render_template('work01.html',text_data=inputText)\n",
        "\n",
        "@app.route('/datanumber/<int:inputInt>')\n",
        "def data_input(inputInt):\n",
        "    newVar = 2 * inputInt\n",
        "    return render_template('work02.html',int_data=newVar)\n",
        "\n",
        "@app.route('/multidata/<inputString>')\n",
        "def multidata(inputString):\n",
        "    str1 = inputString\n",
        "    text_list = str1.split(\",\")\n",
        "    num_array = list(map(lambda x : float(x), text_list))\n",
        "    return render_template('work03.html',**locals())\n",
        "\n",
        "@app.route('/readfile/<readfilename>')\n",
        "def readfile(readfilename):\n",
        "    filename = 'datafiles/'+readfilename\n",
        "    txt = open(filename)\n",
        "    filecontents = txt.read()\n",
        "    txt.close()\n",
        "    return render_template('work04.html',**locals())\n",
        "\n",
        "\n",
        "if __name__ == \"__main__\":\n",
        "    app.run(host=\"localhost\", port=5010)"
      ],
      "execution_count": null,
      "outputs": [
        {
          "output_type": "stream",
          "name": "stdout",
          "text": [
            " * Serving Flask app \"__main__\" (lazy loading)\n",
            " * Environment: production\n",
            "\u001b[31m   WARNING: This is a development server. Do not use it in a production deployment.\u001b[0m\n",
            "\u001b[2m   Use a production WSGI server instead.\u001b[0m\n",
            " * Debug mode: off\n"
          ]
        },
        {
          "output_type": "stream",
          "name": "stderr",
          "text": [
            " * Running on http://localhost:5010/ (Press CTRL+C to quit)\n",
            "127.0.0.1 - - [27/Jul/2022 13:30:02] \"\u001b[37mGET / HTTP/1.1\u001b[0m\" 200 -\n",
            "127.0.0.1 - - [27/Jul/2022 13:30:02] \"\u001b[33mGET /favicon.ico HTTP/1.1\u001b[0m\" 404 -\n",
            "127.0.0.1 - - [27/Jul/2022 13:30:15] \"\u001b[37mGET /readfile/hobbit.txt HTTP/1.1\u001b[0m\" 200 -\n",
            "127.0.0.1 - - [27/Jul/2022 13:30:15] \"\u001b[37mGET /static/kkpraxis.png HTTP/1.1\u001b[0m\" 200 -\n",
            "127.0.0.1 - - [27/Jul/2022 13:30:15] \"\u001b[33mGET /favicon.ico HTTP/1.1\u001b[0m\" 404 -\n"
          ]
        }
      ]
    },
    {
      "cell_type": "markdown",
      "source": [
        "#APIs for Machine Learning\n",
        "Here we build web apps that contain ML models that can be called through the APIs.\n",
        "<br>\n",
        "The ML models are built in other notebooks and stored in Google Drive and downloaded here.\n",
        "\n",
        "<br>\n",
        "Please note that Models built earlier using different versions of sklearn may cause errors. In case there are errors, please rebuild the models and upload them into this Colab VM instead of downloading old models form author's GDrive"
      ],
      "metadata": {
        "id": "imcNGzCd0KCP"
      }
    },
    {
      "cell_type": "markdown",
      "metadata": {
        "id": "yAwq2LXXhBXt"
      },
      "source": [
        "##ML - Linear Regression <br>\n",
        "where we use a pre-built model to carry out a simple linear regression predictions for the well know Red Wine classifiction problem\n",
        "\n",
        "COLAB where model is trained, tested <br>\n",
        "Train : https://github.com/Praxis-QR/DEMD/blob/main/Linear_Regression_Wine_Analysis_Train.ipynb  <br>\n",
        "Predict : https://github.com/Praxis-QR/DEMD/blob/main/Linear_Regression_Wine_Analysis_Predict.ipynb <br>\n",
        "docker build -t calcutta/de-applrw02 . <br>\n",
        "docker run --rm --name praxislrw -p 5002:5000 calcutta/de-applrw02"
      ]
    },
    {
      "cell_type": "markdown",
      "source": [
        "![alt text](https://raw.githubusercontent.com/Praxis-QR/DEMD/main/screenshots/lrhome.png)<br>"
      ],
      "metadata": {
        "id": "BxWuZ4U93rab"
      }
    },
    {
      "cell_type": "markdown",
      "source": [
        "![alt text](https://raw.githubusercontent.com/Praxis-QR/DEMD/main/screenshots/lrpredict.png)<br>"
      ],
      "metadata": {
        "id": "XXV3MCje-XNo"
      }
    },
    {
      "cell_type": "code",
      "metadata": {
        "id": "aFKGuwRehKOM"
      },
      "source": [
        "# Download models, html files and place them in the right directory\n",
        "\n",
        "# The model that will be used in this exercise was trained on 27 July 2022 and has been stored in Google Drive with name lrw-model-270722.pkl\n",
        "# https://drive.google.com/file/d/1h6O1XeeaJ_2RjXlszZAHiz8Zv5Wvqzoy/view?usp=sharing\n",
        "!gdown -q 1h6O1XeeaJ_2RjXlszZAHiz8Zv5Wvqzoy         # lrw-model-270722.pkl\n",
        "\n",
        "#!cp /content/drive/'My Drive'/Praxis/'Course - DevOps'/DevOps/ml/applrw2/templates/home.html templates/home_lrw.html\n",
        "#https://drive.google.com/file/d/16tFiMoSskjZJnd-d4dolCdeVHH8i5atP/view?usp=sharing\n",
        "#!gdown -q https://drive.google.com/uc?id=16tFiMoSskjZJnd-d4dolCdeVHH8i5atP\n",
        "!wget -q  https://raw.githubusercontent.com/Praxis-QR/DEMD/main/templates/LR_home.html\n",
        "\n",
        "#!cp /content/drive/'My Drive'/Praxis/'Course - DevOps'/DevOps/ml/applrw2/templates/predict1.html templates\n",
        "#https://drive.google.com/file/d/12r4V8T9-M2KEcEuyVX9JxThdBXwDiUwz/view?usp=sharing\n",
        "#!gdown -q  https://drive.google.com/uc?id=12r4V8T9-M2KEcEuyVX9JxThdBXwDiUwz\n",
        "!wget -q  https://raw.githubusercontent.com/Praxis-QR/DEMD/main/templates/LR_predict1.html\n",
        "\n",
        "!mv *.pkl datafiles/\n",
        "#!mv home.html templates/home_lrw.html\n",
        "#!mv predict1.html templates/\n",
        "!mv *.html templates/"
      ],
      "execution_count": null,
      "outputs": []
    },
    {
      "cell_type": "code",
      "metadata": {
        "id": "8jGcHAixivJn",
        "outputId": "ac5ed498-1caa-4a1c-d27e-b84fa4e5b588",
        "colab": {
          "base_uri": "https://localhost:8080/"
        }
      },
      "source": [
        "# go to public_url/home for further instructions\n",
        "public_url = ngrok.connect(5010)                        # option 2\n",
        "public_url"
      ],
      "execution_count": null,
      "outputs": [
        {
          "output_type": "execute_result",
          "data": {
            "text/plain": [
              "<NgrokTunnel: \"http://8e66-35-237-69-87.ngrok.io\" -> \"http://localhost:5010\">"
            ]
          },
          "metadata": {},
          "execution_count": 11
        }
      ]
    },
    {
      "cell_type": "code",
      "metadata": {
        "id": "FqNL8PJwidHl",
        "outputId": "b7cd630b-9674-4a0c-ef6f-eac4fe30572b",
        "colab": {
          "base_uri": "https://localhost:8080/"
        }
      },
      "source": [
        "# https://pythonspot.com/flask-web-app-with-python/\n",
        "# make sure that the model name used in the program is the same that has been downloaded from GDrive\n",
        "\n",
        "\n",
        "from sys import argv\n",
        "from flask import Flask, flash, redirect, render_template, request, session, abort\n",
        "\n",
        "import pickle\n",
        "from sklearn import linear_model\n",
        "\n",
        "app = Flask(__name__)\n",
        "scriptName = argv[0]\n",
        "\n",
        "@app.route(\"/\")\n",
        "def hello():\n",
        "    retString = 'ML LRW now running ... '+scriptName\n",
        "    return retString\n",
        "\n",
        "@app.route('/home')\n",
        "def home():\n",
        "    return render_template('LR_home.html')\n",
        "\n",
        "\n",
        "\n",
        "@app.route('/predict1/<featureString>')\n",
        "def multidata(featureString):\n",
        "    str1 = featureString\n",
        "    feature_list = featureString.split(\",\")\n",
        "    feature_array = list(map(lambda x : float(x), feature_list))\n",
        "\n",
        "    model = pickle.load(open(\"datafiles/lrw-model-270722.pkl\",\"rb\"))\n",
        "\n",
        "    #our model rates the wine based on the input array\n",
        "    prediction = model.predict([feature_array]).tolist()\n",
        "\n",
        "    return render_template('LR_predict1.html',**locals())\n",
        "\n",
        "\n",
        "if __name__ == \"__main__\":\n",
        "    app.run(host=\"localhost\", port=5010)"
      ],
      "execution_count": null,
      "outputs": [
        {
          "output_type": "stream",
          "name": "stdout",
          "text": [
            " * Serving Flask app \"__main__\" (lazy loading)\n",
            " * Environment: production\n",
            "\u001b[31m   WARNING: This is a development server. Do not use it in a production deployment.\u001b[0m\n",
            "\u001b[2m   Use a production WSGI server instead.\u001b[0m\n",
            " * Debug mode: off\n"
          ]
        },
        {
          "output_type": "stream",
          "name": "stderr",
          "text": [
            "INFO:werkzeug: * Running on http://localhost:5010/ (Press CTRL+C to quit)\n",
            "INFO:werkzeug:127.0.0.1 - - [29/Jul/2022 03:14:36] \"\u001b[37mGET / HTTP/1.1\u001b[0m\" 200 -\n",
            "INFO:werkzeug:127.0.0.1 - - [29/Jul/2022 03:14:37] \"\u001b[33mGET /favicon.ico HTTP/1.1\u001b[0m\" 404 -\n",
            "INFO:werkzeug:127.0.0.1 - - [29/Jul/2022 03:14:44] \"\u001b[37mGET /home HTTP/1.1\u001b[0m\" 200 -\n",
            "INFO:werkzeug:127.0.0.1 - - [29/Jul/2022 03:14:44] \"\u001b[37mGET /static/kkpraxis.png HTTP/1.1\u001b[0m\" 200 -\n",
            "/usr/local/lib/python3.7/dist-packages/sklearn/base.py:451: UserWarning: X does not have valid feature names, but LinearRegression was fitted with feature names\n",
            "  \"X does not have valid feature names, but\"\n",
            "INFO:werkzeug:127.0.0.1 - - [29/Jul/2022 03:15:51] \"\u001b[37mGET /predict1/7.4,0.66,0,1.8,0.075,13,40,0.9978,3.51,0.56,9.4 HTTP/1.1\u001b[0m\" 200 -\n"
          ]
        }
      ]
    },
    {
      "cell_type": "markdown",
      "metadata": {
        "id": "2mEJhPGxyLmK"
      },
      "source": [
        "##ML - Image Classification / Random Forest<br>\n",
        "https://blog.hyperiondev.com/index.php/2018/02/01/deploy-machine-learning-model-flask-api/\n",
        "\n",
        "In this exercise, we first train a model to recognise numerals and then upload image of number to see whether it is recognised\n",
        "<br>\n",
        "The model is trained and tested in this notebook\n",
        "\n",
        "https://github.com/Praxis-QR/DEMD/blob/main/Image_Classification_Train_Test.ipynb"
      ]
    },
    {
      "cell_type": "markdown",
      "source": [
        "![alt text](https://raw.githubusercontent.com/Praxis-QR/DEMD/main/screenshots/IC1.png)<br>"
      ],
      "metadata": {
        "id": "tnjc-rWt40Xv"
      }
    },
    {
      "cell_type": "code",
      "metadata": {
        "id": "khd-GqUyyfWn"
      },
      "source": [
        "# Download models, html files and place them in the right directory\n",
        "\n",
        "#https://drive.google.com/file/d/13V5FfkVvtD_LjQwgJZI1Wm2g_rfQI3Vy/view?usp=sharing\n",
        "!gdown -q 13V5FfkVvtD_LjQwgJZI1Wm2g_rfQI3Vy     # 'imClass-model-270722A.pkl'\n",
        "\n",
        "#!cp /content/drive/'My Drive'/Praxis/'Course - DevOps'/DevOps/ml/appimclass02/templates/index.html templates\n",
        "#https://drive.google.com/file/d/1pNiq27_abII3mj8PFui1dn1mrKCLlPKd/view?usp=sharing\n",
        "#!gdown -q  https://drive.google.com/uc?id=1pNiq27_abII3mj8PFui1dn1mrKCLlPKd\n",
        "!wget -q  https://raw.githubusercontent.com/Praxis-QR/DEMD/main/templates/IC_index.html\n",
        "\n",
        "!mv *.pkl datafiles/\n",
        "!mv *.html templates/"
      ],
      "execution_count": null,
      "outputs": []
    },
    {
      "cell_type": "code",
      "metadata": {
        "id": "VdBdWwMLzQR7",
        "outputId": "3784e082-0c99-413b-b5f4-9a4a66991acf",
        "colab": {
          "base_uri": "https://localhost:8080/"
        }
      },
      "source": [
        "public_url = ngrok.connect(5010)                        # option 2\n",
        "public_url"
      ],
      "execution_count": null,
      "outputs": [
        {
          "output_type": "execute_result",
          "data": {
            "text/plain": [
              "<NgrokTunnel: \"http://ea55-35-237-69-87.ngrok.io\" -> \"http://localhost:5010\">"
            ]
          },
          "metadata": {},
          "execution_count": 17
        }
      ]
    },
    {
      "cell_type": "code",
      "metadata": {
        "id": "PT6w6oHjyOxz",
        "outputId": "606ca4f5-093c-45b2-a9b2-8803f47256df",
        "colab": {
          "base_uri": "https://localhost:8080/"
        }
      },
      "source": [
        "# https://pythonspot.com/flask-web-app-with-python/\n",
        "# https://blog.hyperiondev.com/index.php/2018/02/01/deploy-machine-learning-model-flask-api/\n",
        "\n",
        "\n",
        "# test images available at https://github.com/elliebirbeck/model-deployment-flask/tree/master/test-imgs\n",
        "\n",
        "\n",
        "from sys import argv\n",
        "from flask import Flask, flash, redirect, render_template, request, session, abort, url_for\n",
        "\n",
        "import pickle\n",
        "from sklearn import linear_model\n",
        "#from sklearn.externals import joblib\n",
        "import joblib\n",
        "from sklearn.ensemble import *\n",
        "\n",
        "import numpy as np\n",
        "import imageio\n",
        "\n",
        "\n",
        "app = Flask(__name__)\n",
        "scriptName = argv[0]\n",
        "\n",
        "@app.route(\"/\")\n",
        "def hello():\n",
        "    retString = 'now running ... '+scriptName\n",
        "    return retString\n",
        "\n",
        "@app.route('/home')\n",
        "def home():\n",
        "    return render_template('IC_index.html')\n",
        "\n",
        "@app.route('/predict', methods=['POST'])\n",
        "def make_prediction():\n",
        "    if request.method=='POST':\n",
        "        file = request.files['image']\n",
        "        if not file:\n",
        "            return render_template('IC_index.html', label=\"No file\")\n",
        "        #f = 'datafiles/'+str(file.filename)\n",
        "        #file.save(f)\n",
        "\n",
        "        img = imageio.imread(file)\n",
        "        img = img[:,:,:3]\n",
        "        img = img.reshape(1, -1)\n",
        "        prediction = model.predict(img)\n",
        "        label = str(np.squeeze(prediction))\n",
        "        if label=='10':\n",
        "            label='0'\n",
        "        return render_template('IC_index.html', label=label, file=file)\n",
        "\n",
        "if __name__ == \"__main__\":\n",
        "    model = joblib.load('datafiles/imClass-model-270722A.pkl')\n",
        "    app.run(host=\"localhost\", port=5010)"
      ],
      "execution_count": null,
      "outputs": [
        {
          "output_type": "stream",
          "name": "stdout",
          "text": [
            " * Serving Flask app \"__main__\" (lazy loading)\n",
            " * Environment: production\n",
            "\u001b[31m   WARNING: This is a development server. Do not use it in a production deployment.\u001b[0m\n",
            "\u001b[2m   Use a production WSGI server instead.\u001b[0m\n",
            " * Debug mode: off\n"
          ]
        },
        {
          "output_type": "stream",
          "name": "stderr",
          "text": [
            "INFO:werkzeug: * Running on http://localhost:5010/ (Press CTRL+C to quit)\n",
            "INFO:werkzeug:127.0.0.1 - - [29/Jul/2022 03:31:12] \"\u001b[37mGET / HTTP/1.1\u001b[0m\" 200 -\n",
            "INFO:werkzeug:127.0.0.1 - - [29/Jul/2022 03:31:13] \"\u001b[33mGET /favicon.ico HTTP/1.1\u001b[0m\" 404 -\n",
            "INFO:werkzeug:127.0.0.1 - - [29/Jul/2022 03:31:18] \"\u001b[37mGET /home HTTP/1.1\u001b[0m\" 200 -\n",
            "INFO:werkzeug:127.0.0.1 - - [29/Jul/2022 03:31:19] \"\u001b[37mGET /static/kkpraxis.png HTTP/1.1\u001b[0m\" 200 -\n",
            "INFO:werkzeug:127.0.0.1 - - [29/Jul/2022 03:33:27] \"\u001b[37mPOST /predict HTTP/1.1\u001b[0m\" 200 -\n"
          ]
        }
      ]
    },
    {
      "cell_type": "markdown",
      "source": [
        "![alt text](https://raw.githubusercontent.com/Praxis-QR/DEMD/main/screenshots/IC2.png)<br>"
      ],
      "metadata": {
        "id": "AL3CmLH45FuM"
      }
    },
    {
      "cell_type": "markdown",
      "source": [
        "![alt text](https://raw.githubusercontent.com/Praxis-QR/DEMD/main/screenshots/IC3.png)<br>"
      ],
      "metadata": {
        "id": "7eM_zdO4B2-_"
      }
    },
    {
      "cell_type": "markdown",
      "metadata": {
        "id": "W3qK5YHXZWqT"
      },
      "source": [
        "#Chronobooks <br>\n",
        "![alt text](https://1.bp.blogspot.com/-lTiYBkU2qbU/X1er__fvnkI/AAAAAAAAjtE/GhDR3OEGJr4NG43fZPodrQD5kbxtnKebgCLcBGAsYHQ/s600/Footer2020-600x200.png)<hr>\n",
        "Chronotantra and Chronoyantra are two science fiction novels that explore the collapse of human civilisation on Earth and then its rebirth and reincarnation both on Earth as well as on the distant worlds of Mars, Titan and Enceladus. But is it the human civilisation that is being reborn? Or is it some other sentience that is revealing itself.\n",
        "If you have an interest in AI and found this material useful, you may consider buying these novels, in paperback or kindle, from [http://bit.ly/chronobooks](http://bit.ly/chronobooks)"
      ]
    }
  ]
}